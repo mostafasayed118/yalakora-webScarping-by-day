{
 "cells": [
  {
   "cell_type": "code",
   "execution_count": 1,
   "id": "47d199bf",
   "metadata": {},
   "outputs": [],
   "source": [
    "import requests\n",
    "from bs4 import BeautifulSoup\n",
    "import pandas as pd\n",
    "import time\n"
   ]
  },
  {
   "cell_type": "code",
   "execution_count": null,
   "id": "103e9d51",
   "metadata": {},
   "outputs": [],
   "source": [
    "def get_matches(date: str):\n",
    "    \"\"\"Scrape matches from yallakora for a given date and return as list of dicts.\"\"\"\n",
    "    url = f\"https://www.yallakora.com/match-center/?date={date}\"\n",
    "    response = requests.get(url)\n",
    "    response.raise_for_status()  #   Stops the code if there's a connection error\n",
    "\n",
    "    soup = BeautifulSoup(response.content, \"lxml\")\n",
    "    championships = soup.find_all(\"div\", {\"class\": \"matchCard\"})\n",
    "\n",
    "    if not championships:\n",
    "        print(f\"⚠️ مفيش مباريات في {date}\")\n",
    "        return []\n",
    "\n",
    "    matches_details = []\n",
    "\n",
    "    for championship in championships:\n",
    "        try:\n",
    "            championship_title = championship.find(\"h2\").text.strip()\n",
    "        except AttributeError:\n",
    "            championship_title = \"غير معروف\"\n",
    "\n",
    "        all_matches = championship.find_all(\"div\", {\"class\": \"item\"})\n",
    "\n",
    "        for match in all_matches:\n",
    "            try:\n",
    "                team_a = match.find(\"div\", {\"class\": \"teamA\"}).text.strip()\n",
    "                team_b = match.find(\"div\", {\"class\": \"teamB\"}).text.strip()\n",
    "\n",
    "                scores = match.find(\"div\", {\"class\": \"MResult\"}).find_all(\n",
    "                    \"span\", {\"class\": \"score\"})\n",
    "                if len(scores) == 2:\n",
    "                    score = f\"{scores[0].text.strip()} - {scores[1].text.strip()}\"\n",
    "                else:\n",
    "                    score = \"لم تبدأ\"\n",
    "\n",
    "                time = match.find(\"span\", {\"class\": \"time\"}).text.strip(\n",
    "                ) if match.find(\"span\", {\"class\": \"time\"}) else \"\"\n",
    "\n",
    "                # رابط المباراة\n",
    "                match_link = match.find(\"a\")[\"href\"] if match.find(\"a\") else \"\"\n",
    "                if match_link and not match_link.startswith(\"http\"):\n",
    "                    match_link = \"https://www.yallakora.com\" + match_link\n",
    "\n",
    "                matches_details.append({\n",
    "                    \"البطولة\": championship_title,\n",
    "                    \"الفريق الأول\": team_a,\n",
    "                    \"الفريق الثاني\": team_b,\n",
    "                    \"النتيجة\": score,\n",
    "                    \"الوقت\": time,\n",
    "                    \"رابط المباراة\": match_link\n",
    "                })\n",
    "            except Exception as e:\n",
    "                print(f\"⚠️ حصل خطأ في استخراج ماتش: {e}\")\n",
    "                continue\n",
    "\n",
    "    return matches_details"
   ]
  },
  {
   "cell_type": "code",
   "execution_count": 3,
   "id": "75de40a0",
   "metadata": {},
   "outputs": [],
   "source": [
    "def save_to_csv(matches, date: str):\n",
    "    \"\"\"Save matches list to CSV using pandas.\"\"\"\n",
    "    if not matches:\n",
    "        print(\"⚠️ مفيش داتا للحفظ\")\n",
    "        return\n",
    "\n",
    "    df = pd.DataFrame(matches)\n",
    "    path = f\"D:/python_work/web_scraping_projects/yalakora/matches_{date}.csv\"\n",
    "    df.to_csv(path, index=False, encoding=\"utf-8-sig\")\n",
    "    print(f\"✅ تم حفظ {len(matches)} ماتش في الملف: {path}\")"
   ]
  },
  {
   "cell_type": "code",
   "execution_count": 6,
   "id": "ee719442",
   "metadata": {},
   "outputs": [
    {
     "name": "stdout",
     "output_type": "stream",
     "text": [
      "✅ تم حفظ 45 ماتش في الملف: D:/python_work/web_scraping_projects/yalakora/matches_2025-9-28.csv\n"
     ]
    }
   ],
   "source": [
    "def main():\n",
    "    date = input(\"من فضلك أدخل التاريخ بصيغة YYYY-MM-DD: \").strip()\n",
    "    matches = get_matches(date)\n",
    "    save_to_csv(matches, date)\n",
    "\n",
    "\n",
    "if __name__ == \"__main__\":\n",
    "    main()"
   ]
  }
 ],
 "metadata": {
  "kernelspec": {
   "display_name": "base",
   "language": "python",
   "name": "python3"
  },
  "language_info": {
   "codemirror_mode": {
    "name": "ipython",
    "version": 3
   },
   "file_extension": ".py",
   "mimetype": "text/x-python",
   "name": "python",
   "nbconvert_exporter": "python",
   "pygments_lexer": "ipython3",
   "version": "3.13.5"
  }
 },
 "nbformat": 4,
 "nbformat_minor": 5
}
